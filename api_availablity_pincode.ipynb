{
 "metadata": {
  "language_info": {
   "codemirror_mode": {
    "name": "ipython",
    "version": 3
   },
   "file_extension": ".py",
   "mimetype": "text/x-python",
   "name": "python",
   "nbconvert_exporter": "python",
   "pygments_lexer": "ipython3",
   "version": "3.8.6"
  },
  "orig_nbformat": 2,
  "kernelspec": {
   "name": "pythonjvsc74a57bd075b778a82115aa4750f3c1e0a0bbe149b743dd7dd6c497e94df62806f22f3a2e",
   "display_name": "Python 3.8.6  ('App': venv)"
  },
  "metadata": {
   "interpreter": {
    "hash": "75b778a82115aa4750f3c1e0a0bbe149b743dd7dd6c497e94df62806f22f3a2e"
   }
  }
 },
 "nbformat": 4,
 "nbformat_minor": 2,
 "cells": [
  {
   "cell_type": "code",
   "execution_count": 1,
   "metadata": {},
   "outputs": [],
   "source": [
    "import requests\n",
    "import datetime\n",
    "import json\n",
    "from fake_useragent import UserAgent"
   ]
  },
  {
   "cell_type": "code",
   "execution_count": 2,
   "metadata": {},
   "outputs": [],
   "source": [
    "temp_user_agent = UserAgent()\n",
    "browser_header = {'User-Agent': temp_user_agent.random}"
   ]
  },
  {
   "cell_type": "code",
   "execution_count": 3,
   "metadata": {},
   "outputs": [],
   "source": [
    "POST_CODE = \"600042\"\n",
    "age = 45\n",
    "\n",
    "print_flag = 'Y'\n",
    "\n",
    "number_of_days = 12"
   ]
  },
  {
   "cell_type": "code",
   "execution_count": 4,
   "metadata": {},
   "outputs": [],
   "source": [
    "base = datetime.datetime.today()\n",
    "date_list = [base + datetime.timedelta(days=x) for x in range(number_of_days)]\n",
    "date_str = [x.strftime(\"%d-%m-%Y\") for x in date_list]"
   ]
  },
  {
   "cell_type": "code",
   "execution_count": 5,
   "metadata": {},
   "outputs": [
    {
     "output_type": "stream",
     "name": "stdout",
     "text": [
      "Available on: 16-05-2021\n",
      "\tCenter name: Adambakkam TNHB UPHC\n",
      "\tBlock: Adyar\n",
      "\t Price:  Free\n",
      "\t Available Capacity:  0\n",
      "\t Vaccine:  COVISHIELD\n",
      "\n",
      "\n",
      "\n",
      "\tCenter name: Adambakkam TNHB UPHC\n",
      "\tBlock: Adyar\n",
      "\t Price:  Free\n",
      "\t Available Capacity:  0\n",
      "\t Vaccine:  COVISHIELD\n",
      "\n",
      "\n",
      "\n",
      "\tCenter name: Velachery UPHC\n",
      "\tBlock: Adyar\n",
      "\t Price:  Free\n",
      "\t Available Capacity:  0\n",
      "\t Vaccine:  COVISHIELD\n",
      "\n",
      "\n",
      "\n",
      "\tCenter name: Velachery UPHC\n",
      "\tBlock: Adyar\n",
      "\t Price:  Free\n",
      "\t Available Capacity:  0\n",
      "\t Vaccine:  COVISHIELD\n",
      "\n",
      "\n",
      "\n",
      "Available on: 17-05-2021\n",
      "\tCenter name: Velachery UPHC\n",
      "\tBlock: Adyar\n",
      "\t Price:  Free\n",
      "\t Available Capacity:  0\n",
      "\t Vaccine:  COVISHIELD\n",
      "\n",
      "\n",
      "\n",
      "\tCenter name: Adambakkam TNHB UPHC\n",
      "\tBlock: Adyar\n",
      "\t Price:  Free\n",
      "\t Available Capacity:  0\n",
      "\t Vaccine:  COVISHIELD\n",
      "\n",
      "\n",
      "\n"
     ]
    },
    {
     "output_type": "error",
     "ename": "NameError",
     "evalue": "name 'INP_DATE' is not defined",
     "traceback": [
      "\u001b[1;31m---------------------------------------------------------------------------\u001b[0m",
      "\u001b[1;31mNameError\u001b[0m                                 Traceback (most recent call last)",
      "\u001b[1;32m<ipython-input-5-43fbe39d17b5>\u001b[0m in \u001b[0;36m<module>\u001b[1;34m\u001b[0m\n\u001b[0;32m     19\u001b[0m \u001b[1;33m\u001b[0m\u001b[0m\n\u001b[0;32m     20\u001b[0m         \u001b[1;32melse\u001b[0m\u001b[1;33m:\u001b[0m\u001b[1;33m\u001b[0m\u001b[1;33m\u001b[0m\u001b[0m\n\u001b[1;32m---> 21\u001b[1;33m             \u001b[0mprint\u001b[0m\u001b[1;33m(\u001b[0m\u001b[1;34m\"No available slots on {}\"\u001b[0m\u001b[1;33m.\u001b[0m\u001b[0mformat\u001b[0m\u001b[1;33m(\u001b[0m\u001b[0mINP_DATE\u001b[0m\u001b[1;33m)\u001b[0m\u001b[1;33m)\u001b[0m\u001b[1;33m\u001b[0m\u001b[1;33m\u001b[0m\u001b[0m\n\u001b[0m",
      "\u001b[1;31mNameError\u001b[0m: name 'INP_DATE' is not defined"
     ]
    }
   ],
   "source": [
    "for input_date in date_str:\n",
    "    URL = (f\"https://cdn-api.co-vin.in/api/v2/appointment/sessions/public/calendarByPin?pincode={POST_CODE}&date={input_date}\")\n",
    "    response = requests.get(URL, headers=browser_header)\n",
    "    if response.ok:\n",
    "        resp_json = response.json()\n",
    "        if resp_json[\"centers\"]:\n",
    "            print(f\"Available on: {input_date}\")\n",
    "            if(print_flag=='y' or print_flag=='Y'):\n",
    "                for center in resp_json[\"centers\"]:\n",
    "                    for session in center[\"sessions\"]:\n",
    "                        if session[\"min_age_limit\"] <= age:\n",
    "                            print(\"\\tCenter name:\", center[\"name\"])\n",
    "                            print(\"\\tBlock:\", center[\"block_name\"])\n",
    "                            print(\"\\t Price: \", center[\"fee_type\"])\n",
    "                            print(\"\\t Available Capacity: \", session[\"available_capacity\"])\n",
    "                            if(session[\"vaccine\"] != ''):\n",
    "                                print(\"\\t Vaccine: \", session[\"vaccine\"])\n",
    "                            print(\"\\n\\n\")\n",
    "                            \n",
    "        else:\n",
    "            print(\"No available slots on {}\".format(INP_DATE))"
   ]
  }
 ]
}