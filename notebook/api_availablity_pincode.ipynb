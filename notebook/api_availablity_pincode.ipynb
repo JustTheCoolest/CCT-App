{
 "metadata": {
  "language_info": {
   "codemirror_mode": {
    "name": "ipython",
    "version": 3
   },
   "file_extension": ".py",
   "mimetype": "text/x-python",
   "name": "python",
   "nbconvert_exporter": "python",
   "pygments_lexer": "ipython3",
   "version": "3.8.6"
  },
  "orig_nbformat": 2,
  "kernelspec": {
   "name": "pythonjvsc74a57bd075b778a82115aa4750f3c1e0a0bbe149b743dd7dd6c497e94df62806f22f3a2e",
   "display_name": "Python 3.8.6  ('App': venv)"
  },
  "metadata": {
   "interpreter": {
    "hash": "75b778a82115aa4750f3c1e0a0bbe149b743dd7dd6c497e94df62806f22f3a2e"
   }
  }
 },
 "nbformat": 4,
 "nbformat_minor": 2,
 "cells": [
  {
   "cell_type": "code",
   "execution_count": 1,
   "source": [
    "import requests\r\n",
    "import datetime\r\n",
    "from fake_useragent import UserAgent"
   ],
   "outputs": [],
   "metadata": {}
  },
  {
   "cell_type": "code",
   "execution_count": 2,
   "source": [
    "temp_user_agent = UserAgent()\r\n",
    "browser_header = {'User-Agent': temp_user_agent.random}"
   ],
   "outputs": [],
   "metadata": {}
  },
  {
   "cell_type": "code",
   "execution_count": 3,
   "source": [
    "POST_CODE = \"600042\"\r\n",
    "age = 45\r\n",
    "\r\n",
    "print_flag = 'Y'\r\n",
    "\r\n",
    "number_of_days = 12"
   ],
   "outputs": [],
   "metadata": {}
  },
  {
   "cell_type": "code",
   "execution_count": 4,
   "source": [
    "base = datetime.datetime.today()\r\n",
    "date_list = [base + datetime.timedelta(days=x) for x in range(number_of_days)]\r\n",
    "date_str = [x.strftime(\"%d-%m-%Y\") for x in date_list]"
   ],
   "outputs": [],
   "metadata": {}
  },
  {
   "cell_type": "code",
   "execution_count": 5,
   "source": [
    "for input_date in date_str:\r\n",
    "    URL = (f\"https://cdn-api.co-vin.in/api/v2/appointment/sessions/public/calendarByPin?pincode={POST_CODE}&date={input_date}\")\r\n",
    "    response = requests.get(URL, headers=browser_header)\r\n",
    "    if response.ok:\r\n",
    "        resp_json = response.json()\r\n",
    "        if resp_json[\"centers\"]:\r\n",
    "            print(f\"Available on: {input_date}\")\r\n",
    "            if print_flag in ['y', 'Y']:\r\n",
    "                for center in resp_json[\"centers\"]:\r\n",
    "                    for session in center[\"sessions\"]:\r\n",
    "                        if session[\"min_age_limit\"] <= age:\r\n",
    "                            print(\"\\tCenter name:\", center[\"name\"])\r\n",
    "                            print(\"\\tBlock:\", center[\"block_name\"])\r\n",
    "                            print(\"\\t Price: \", center[\"fee_type\"])\r\n",
    "                            print(\"\\t Available Capacity: \", session[\"available_capacity\"])\r\n",
    "                            if(session[\"vaccine\"] != ''):\r\n",
    "                                print(\"\\t Vaccine: \", session[\"vaccine\"])\r\n",
    "                            print(\"\\n\\n\")\r\n",
    "\r\n",
    "        else:\r\n",
    "            print(\"No available slots on {}\".format(INP_DATE))"
   ],
   "outputs": [
    {
     "output_type": "stream",
     "name": "stdout",
     "text": [
      "Available on: 16-05-2021\n",
      "\tCenter name: Adambakkam TNHB UPHC\n",
      "\tBlock: Adyar\n",
      "\t Price:  Free\n",
      "\t Available Capacity:  0\n",
      "\t Vaccine:  COVISHIELD\n",
      "\n",
      "\n",
      "\n",
      "\tCenter name: Adambakkam TNHB UPHC\n",
      "\tBlock: Adyar\n",
      "\t Price:  Free\n",
      "\t Available Capacity:  0\n",
      "\t Vaccine:  COVISHIELD\n",
      "\n",
      "\n",
      "\n",
      "\tCenter name: Velachery UPHC\n",
      "\tBlock: Adyar\n",
      "\t Price:  Free\n",
      "\t Available Capacity:  0\n",
      "\t Vaccine:  COVISHIELD\n",
      "\n",
      "\n",
      "\n",
      "\tCenter name: Velachery UPHC\n",
      "\tBlock: Adyar\n",
      "\t Price:  Free\n",
      "\t Available Capacity:  0\n",
      "\t Vaccine:  COVISHIELD\n",
      "\n",
      "\n",
      "\n",
      "Available on: 17-05-2021\n",
      "\tCenter name: Velachery UPHC\n",
      "\tBlock: Adyar\n",
      "\t Price:  Free\n",
      "\t Available Capacity:  0\n",
      "\t Vaccine:  COVISHIELD\n",
      "\n",
      "\n",
      "\n",
      "\tCenter name: Adambakkam TNHB UPHC\n",
      "\tBlock: Adyar\n",
      "\t Price:  Free\n",
      "\t Available Capacity:  0\n",
      "\t Vaccine:  COVISHIELD\n",
      "\n",
      "\n",
      "\n"
     ]
    },
    {
     "output_type": "error",
     "ename": "NameError",
     "evalue": "name 'INP_DATE' is not defined",
     "traceback": [
      "\u001b[1;31m---------------------------------------------------------------------------\u001b[0m",
      "\u001b[1;31mNameError\u001b[0m                                 Traceback (most recent call last)",
      "\u001b[1;32m<ipython-input-5-43fbe39d17b5>\u001b[0m in \u001b[0;36m<module>\u001b[1;34m\u001b[0m\n\u001b[0;32m     19\u001b[0m \u001b[1;33m\u001b[0m\u001b[0m\n\u001b[0;32m     20\u001b[0m         \u001b[1;32melse\u001b[0m\u001b[1;33m:\u001b[0m\u001b[1;33m\u001b[0m\u001b[1;33m\u001b[0m\u001b[0m\n\u001b[1;32m---> 21\u001b[1;33m             \u001b[0mprint\u001b[0m\u001b[1;33m(\u001b[0m\u001b[1;34m\"No available slots on {}\"\u001b[0m\u001b[1;33m.\u001b[0m\u001b[0mformat\u001b[0m\u001b[1;33m(\u001b[0m\u001b[0mINP_DATE\u001b[0m\u001b[1;33m)\u001b[0m\u001b[1;33m)\u001b[0m\u001b[1;33m\u001b[0m\u001b[1;33m\u001b[0m\u001b[0m\n\u001b[0m",
      "\u001b[1;31mNameError\u001b[0m: name 'INP_DATE' is not defined"
     ]
    }
   ],
   "metadata": {}
  }
 ]
}